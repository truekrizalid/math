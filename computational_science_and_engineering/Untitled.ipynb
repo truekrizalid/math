{
 "cells": [
  {
   "cell_type": "code",
   "execution_count": 1,
   "metadata": {},
   "outputs": [],
   "source": [
    "def Ktbc(Type,n):  # 更改后的计算程序，大幅减少了行数\n",
    "    Mat = np.zeros(n*n)\n",
    "    for i in range(n):\n",
    "        if i <n-1:\n",
    "            Mat[(n+1)*i-1] = -1\n",
    "            Mat[(n+1)*i] = 2\n",
    "            Mat[(n+1)*i+1]=-1\n",
    "        else:\n",
    "            Mat[(n+1)*i-1] = -1\n",
    "            Mat[(n+1)*i] = 2\n",
    "    if Type == \"K\" or Type == \"k\" : pass\n",
    "    elif Type == \"T\"or Type ==\"t\": Mat[0]=1\n",
    "    elif Type == \"B\"or Type ==\"b\": Mat[0],Mat[n*n-1]=1,1\n",
    "    elif Type == \"C\" or Type ==\"c\": Mat[n-1],Mat[n*(n-1)]= -1,-1\n",
    "    else :\n",
    "        print(\"Please check input\")\n",
    "        raise ValueError\n",
    "    Mat = Mat.reshape(n,n)\n",
    "    Mat = np.mat(Mat)\n",
    "    return Mat"
   ]
  },
  {
   "cell_type": "code",
   "execution_count": 2,
   "metadata": {},
   "outputs": [],
   "source": [
    "import numpy as np \n",
    "import scipy.linalg as alg\n",
    "n=5\n",
    "Tn = Ktbc(\"T\",n)\n",
    "Tnp1 = Ktbc(\"T\",n+1)\n",
    "h = 1/(n+1)\n",
    "c = np.pi/2\n"
   ]
  },
  {
   "cell_type": "code",
   "execution_count": 3,
   "metadata": {},
   "outputs": [],
   "source": [
    "def f(x):\n",
    "    return c**2*np.cos(c*x)"
   ]
  },
  {
   "cell_type": "code",
   "execution_count": 4,
   "metadata": {},
   "outputs": [
    {
     "name": "stdout",
     "output_type": "stream",
     "text": [
      "[ 0.16666667  0.33333333  0.5         0.66666667  0.83333333]\n"
     ]
    },
    {
     "data": {
      "text/plain": [
       "array([ 28.80412002,  26.42079357,  21.90063509,  15.63576056,   8.13718548])"
      ]
     },
     "execution_count": 4,
     "metadata": {},
     "output_type": "execute_result"
    }
   ],
   "source": [
    "X1 = np.linspace(0,1,n+2)[1:-1]\n",
    "print(X1)\n",
    "Fn = f(X1)\n",
    "u1 = np.linalg.solve(Tn,Fn)\n",
    "u1"
   ]
  },
  {
   "cell_type": "code",
   "execution_count": 5,
   "metadata": {},
   "outputs": [
    {
     "data": {
      "text/plain": [
       "array([ 0.        ,  0.16666667,  0.33333333,  0.5       ,  0.66666667,\n",
       "        0.83333333])"
      ]
     },
     "execution_count": 5,
     "metadata": {},
     "output_type": "execute_result"
    }
   ],
   "source": [
    "X2 = np.linspace(0,1,n+2)[0:-1]\n",
    "X2"
   ]
  },
  {
   "cell_type": "code",
   "execution_count": 6,
   "metadata": {},
   "outputs": [
    {
     "data": {
      "text/plain": [
       "array([ 0.        ,  2.38332645,  2.13683203,  1.74471605,  1.23370055,\n",
       "        0.6386104 ])"
      ]
     },
     "execution_count": 6,
     "metadata": {},
     "output_type": "execute_result"
    }
   ],
   "source": [
    "Fnp1=np.zeros(n+1)\n",
    "Fnp1[1:]=Fn\n",
    "Fnp1\n"
   ]
  },
  {
   "cell_type": "code",
   "execution_count": 7,
   "metadata": {},
   "outputs": [
    {
     "data": {
      "text/plain": [
       "array([ 28.80412002,  28.80412002,  26.42079357,  21.90063509,\n",
       "        15.63576056,   8.13718548])"
      ]
     },
     "execution_count": 7,
     "metadata": {},
     "output_type": "execute_result"
    }
   ],
   "source": [
    "u2= np.linalg.solve(Tnp1,Fnp1)\n",
    "u2"
   ]
  },
  {
   "cell_type": "code",
   "execution_count": 8,
   "metadata": {},
   "outputs": [
    {
     "data": {
      "text/plain": [
       "matrix([[ 6.],\n",
       "        [ 5.],\n",
       "        [ 3.]])"
      ]
     },
     "execution_count": 8,
     "metadata": {},
     "output_type": "execute_result"
    }
   ],
   "source": [
    "Ktbc(\"T\",3)**-1*np.ones(3).reshape(3,1)"
   ]
  },
  {
   "cell_type": "markdown",
   "metadata": {},
   "source": [
    "#### Solve equation :\n",
    "$$ \\frac {-d^2u}{dx^2} + \\frac{du}{dx} = 1 $$\n",
    "<center> $ u(0)=0 $ $u(1)=0$ </center>\n",
    "Exact solution:\n",
    "    $$ u = x + A + Be^x $$"
   ]
  },
  {
   "cell_type": "code",
   "execution_count": 9,
   "metadata": {},
   "outputs": [],
   "source": [
    "def kx(n,c):\n",
    "    Mat = np.zeros(n*n)\n",
    "    h = c/(n+1)\n",
    "    for i in range(n):\n",
    "        if i <n-1:\n",
    "            Mat[(n+1)*i-1] = -(1+h/2)\n",
    "            Mat[(n+1)*i] = 2\n",
    "            Mat[(n+1)*i+1]=-(1-h/2)\n",
    "        else:\n",
    "            Mat[(n+1)*i-1] = -(1+h/2)\n",
    "            Mat[(n+1)*i] = 2\n",
    "            \n",
    "    Mat = Mat.reshape(n,n)\n",
    "    return Mat"
   ]
  },
  {
   "cell_type": "code",
   "execution_count": 10,
   "metadata": {},
   "outputs": [
    {
     "data": {
      "text/plain": [
       "array([[ 0.01923843],\n",
       "       [ 0.03709243],\n",
       "       [ 0.05349449],\n",
       "       [ 0.06837376],\n",
       "       [ 0.08165597],\n",
       "       [ 0.09326322],\n",
       "       [ 0.10311379],\n",
       "       [ 0.111122  ],\n",
       "       [ 0.11719797],\n",
       "       [ 0.12124744],\n",
       "       [ 0.12317158],\n",
       "       [ 0.12286669],\n",
       "       [ 0.12022405],\n",
       "       [ 0.11512962],\n",
       "       [ 0.1074638 ],\n",
       "       [ 0.09710116],\n",
       "       [ 0.08391015],\n",
       "       [ 0.06775278],\n",
       "       [ 0.04848438],\n",
       "       [ 0.02595317]])"
      ]
     },
     "execution_count": 10,
     "metadata": {},
     "output_type": "execute_result"
    }
   ],
   "source": [
    "n =20\n",
    "u = np.linalg.solve(kx(n,1),np.ones(n).reshape(n,1)*(1/(n+1)**2))\n",
    "u"
   ]
  },
  {
   "cell_type": "code",
   "execution_count": 11,
   "metadata": {},
   "outputs": [],
   "source": [
    "A = 1/(np.e-1)\n",
    "B = -1*A\n",
    "X = np.linspace(0,1,n+2)[1:-1]\n",
    "Y = A + X + B*np.exp(X)\n",
    "Y = Y.reshape(n,1)"
   ]
  },
  {
   "cell_type": "code",
   "execution_count": 12,
   "metadata": {},
   "outputs": [
    {
     "data": {
      "text/plain": [
       "array([[ -2.99361381e-06],\n",
       "       [ -5.86530435e-06],\n",
       "       [ -8.59605580e-06],\n",
       "       [ -1.11652874e-05],\n",
       "       [ -1.35507459e-05],\n",
       "       [ -1.57283915e-05],\n",
       "       [ -1.76722768e-05],\n",
       "       [ -1.93544171e-05],\n",
       "       [ -2.07446542e-05],\n",
       "       [ -2.18105106e-05],\n",
       "       [ -2.25170349e-05],\n",
       "       [ -2.28266380e-05],\n",
       "       [ -2.26989188e-05],\n",
       "       [ -2.20904792e-05],\n",
       "       [ -2.09547280e-05],\n",
       "       [ -1.92416728e-05],\n",
       "       [ -1.68976986e-05],\n",
       "       [ -1.38653339e-05],\n",
       "       [ -1.00830015e-05],\n",
       "       [ -5.48475531e-06]])"
      ]
     },
     "execution_count": 12,
     "metadata": {},
     "output_type": "execute_result"
    }
   ],
   "source": [
    "error = Y -u\n",
    "error\n"
   ]
  },
  {
   "cell_type": "code",
   "execution_count": 13,
   "metadata": {},
   "outputs": [
    {
     "data": {
      "text/plain": [
       "<Figure size 640x480 with 1 Axes>"
      ]
     },
     "metadata": {},
     "output_type": "display_data"
    }
   ],
   "source": [
    "import matplotlib.pyplot as plt\n",
    "plt.plot(X, Y, 'r--', X, u, 'bs', linewidth=2) \n",
    "plt.show()"
   ]
  },
  {
   "cell_type": "code",
   "execution_count": 14,
   "metadata": {},
   "outputs": [
    {
     "data": {
      "image/png": "[encoded data removed]",
      "text/plain": [
       "<Figure size 432x288 with 1 Axes>"
      ]
     },
     "metadata": {},
     "output_type": "display_data"
    }
   ],
   "source": [
    "plt.plot(X,error,\"r--\",linewidth = 2)\n",
    "plt.show()"
   ]
  },
  {
   "cell_type": "code",
   "execution_count": 15,
   "metadata": {},
   "outputs": [
    {
     "name": "stdout",
     "output_type": "stream",
     "text": [
      "[[ 1.  0.  0.  0.]\n",
      " [ 0.  1.  0.  0.]\n",
      " [ 0.  0.  1.  0.]\n",
      " [ 0.  0.  0.  1.]]\n",
      "[[ 1.          0.          0.          0.        ]\n",
      " [-0.55        1.          0.          0.        ]\n",
      " [ 0.         -0.73089701  1.          0.        ]\n",
      " [ 0.          0.         -0.81955446  1.        ]]\n",
      "[[ 2.         -0.9         0.          0.        ]\n",
      " [ 0.          1.505      -0.9         0.        ]\n",
      " [ 0.          0.          1.34219269 -0.9       ]\n",
      " [ 0.          0.          0.          1.26240099]]\n"
     ]
    }
   ],
   "source": [
    "P,L,U= alg.lu(kx(4,1))\n",
    "print(P)\n",
    "print(L)\n",
    "print(U)\n"
   ]
  },
  {
   "cell_type": "code",
   "execution_count": 16,
   "metadata": {},
   "outputs": [],
   "source": [
    "A = np.array([[1,1,0],[1,1,1],[0,1,1]])\n"
   ]
  },
  {
   "cell_type": "code",
   "execution_count": 17,
   "metadata": {},
   "outputs": [
    {
     "name": "stdout",
     "output_type": "stream",
     "text": [
      "[[1 1 0]\n",
      " [1 1 1]\n",
      " [0 1 1]]\n",
      "[[ 1.  0.  0.]\n",
      " [ 0.  0.  1.]\n",
      " [ 0.  1.  0.]]\n",
      "[[ 1.  0.  0.]\n",
      " [ 0.  1.  0.]\n",
      " [ 1.  0.  1.]]\n",
      "[[ 1.  1.  0.]\n",
      " [ 0.  1.  1.]\n",
      " [ 0.  0.  1.]]\n",
      "[[ 1.  0.  0.]\n",
      " [ 0.  1.  0.]\n",
      " [ 0.  0.  1.]]\n",
      "[[ 1.  1.  0.]\n",
      " [ 0.  1.  1.]\n",
      " [ 1.  1.  1.]]\n"
     ]
    }
   ],
   "source": [
    "A = np.mat(A)\n",
    "f = A*np.mat([1,2,3]).reshape(3,1)\n",
    "u = np.linalg.solve(A,f)\n",
    "\n",
    "P,L,U = alg.lu(A)\n",
    "print(A)\n",
    "print(P)\n",
    "print(L)\n",
    "print(U)\n",
    "print(L*U)\n",
    "print(P*A)\n"
   ]
  },
  {
   "cell_type": "code",
   "execution_count": 27,
   "metadata": {},
   "outputs": [
    {
     "name": "stdout",
     "output_type": "stream",
     "text": [
      "-1.0\n",
      "[[3]\n",
      " [6]\n",
      " [5]]\n"
     ]
    },
    {
     "data": {
      "text/plain": [
       "matrix([[ 0.33333333,  0.33333333,  0.        ],\n",
       "        [ 0.16666667,  0.16666667,  0.16666667],\n",
       "        [ 0.        ,  0.2       ,  0.2       ]])"
      ]
     },
     "execution_count": 27,
     "metadata": {},
     "output_type": "execute_result"
    }
   ],
   "source": [
    "B = np.mat([3,6,5]).reshape(3,1)\n",
    "\n",
    "print(np.linalg.det(A))\n",
    "print(B)\n",
    "np.divide(A,B)"
   ]
  },
  {
   "cell_type": "code",
   "execution_count": null,
   "metadata": {},
   "outputs": [],
   "source": []
  },
  {
   "cell_type": "code",
   "execution_count": null,
   "metadata": {},
   "outputs": [],
   "source": []
  }
 ],
 "metadata": {
  "kernelspec": {
   "display_name": "Python 3",
   "language": "python",
   "name": "python3"
  },
  "language_info": {
   "codemirror_mode": {
    "name": "ipython",
    "version": 3
   },
   "file_extension": ".py",
   "mimetype": "text/x-python",
   "name": "python",
   "nbconvert_exporter": "python",
   "pygments_lexer": "ipython3",
   "version": "3.6.0"
  }
 },
 "nbformat": 4,
 "nbformat_minor": 2
}
