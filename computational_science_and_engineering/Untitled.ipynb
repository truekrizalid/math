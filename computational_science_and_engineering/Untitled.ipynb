{
 "cells": [
  {
   "cell_type": "code",
   "execution_count": 1,
   "metadata": {},
   "outputs": [],
   "source": [
    "def Ktbc(Type,n):  # 更改后的计算程序，大幅减少了行数\n",
    "    Mat = np.zeros(n*n)\n",
    "    for i in range(n):\n",
    "        if i <n-1:\n",
    "            Mat[(n+1)*i-1] = -1\n",
    "            Mat[(n+1)*i] = 2\n",
    "            Mat[(n+1)*i+1]=-1\n",
    "        else:\n",
    "            Mat[(n+1)*i-1] = -1\n",
    "            Mat[(n+1)*i] = 2\n",
    "    if Type == \"K\" or Type == \"k\" : pass\n",
    "    elif Type == \"T\"or Type ==\"t\": Mat[0]=1\n",
    "    elif Type == \"B\"or Type ==\"b\": Mat[0],Mat[n*n-1]=1,1\n",
    "    elif Type == \"C\" or Type ==\"c\": Mat[n-1],Mat[n*(n-1)]= -1,-1\n",
    "    else :\n",
    "        print(\"Please check input\")\n",
    "        raise ValueError\n",
    "    Mat = Mat.reshape(n,n)\n",
    "    Mat = np.mat(Mat)\n",
    "    return Mat"
   ]
  },
  {
   "cell_type": "code",
   "execution_count": 18,
   "metadata": {},
   "outputs": [],
   "source": [
    "import numpy as np \n",
    "n=5\n",
    "Tn = Ktbc(\"T\",n)\n",
    "Tnp1 = Ktbc(\"T\",n+1)\n",
    "h = 1/(n+1)\n",
    "c = np.pi/2\n"
   ]
  },
  {
   "cell_type": "code",
   "execution_count": 19,
   "metadata": {},
   "outputs": [],
   "source": [
    "def f(x):\n",
    "    return c**2*np.cos(c*x)"
   ]
  },
  {
   "cell_type": "code",
   "execution_count": 20,
   "metadata": {},
   "outputs": [
    {
     "name": "stdout",
     "output_type": "stream",
     "text": [
      "[ 0.16666667  0.33333333  0.5         0.66666667  0.83333333]\n"
     ]
    },
    {
     "data": {
      "text/plain": [
       "array([ 28.80412002,  26.42079357,  21.90063509,  15.63576056,   8.13718548])"
      ]
     },
     "execution_count": 20,
     "metadata": {},
     "output_type": "execute_result"
    }
   ],
   "source": [
    "X1 = np.linspace(0,1,n+2)[1:-1]\n",
    "print(X1)\n",
    "Fn = f(X1)\n",
    "u1 = np.linalg.solve(Tn,Fn)\n",
    "u1"
   ]
  },
  {
   "cell_type": "code",
   "execution_count": null,
   "metadata": {},
   "outputs": [],
   "source": [
    "X2 = np.linspace"
   ]
  }
 ],
 "metadata": {
  "kernelspec": {
   "display_name": "Python 3",
   "language": "python",
   "name": "python3"
  },
  "language_info": {
   "codemirror_mode": {
    "name": "ipython",
    "version": 3
   },
   "file_extension": ".py",
   "mimetype": "text/x-python",
   "name": "python",
   "nbconvert_exporter": "python",
   "pygments_lexer": "ipython3",
   "version": "3.6.0"
  }
 },
 "nbformat": 4,
 "nbformat_minor": 2
}
