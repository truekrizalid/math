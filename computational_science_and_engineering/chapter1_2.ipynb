{
 "cells": [
  {
   "cell_type": "code",
   "execution_count": 1,
   "metadata": {},
   "outputs": [],
   "source": [
    "def Ktbc(Type,n):  # 更改后的计算程序，大幅减少了行数\n",
    "    Mat = np.zeros(n*n)\n",
    "    for i in range(n):\n",
    "        if i <n-1:\n",
    "            Mat[(n+1)*i-1] = -1\n",
    "            Mat[(n+1)*i] = 2\n",
    "            Mat[(n+1)*i+1]=-1\n",
    "        else:\n",
    "            Mat[(n+1)*i-1] = -1\n",
    "            Mat[(n+1)*i] = 2\n",
    "    if Type == \"K\" or Type == \"k\" : pass\n",
    "    elif Type == \"T\"or Type ==\"t\": Mat[0]=1\n",
    "    elif Type == \"B\"or Type ==\"b\": Mat[0],Mat[n*n-1]=1,1\n",
    "    elif Type == \"C\" or Type ==\"c\": Mat[n-1],Mat[n*(n-1)]= -1,-1\n",
    "    else :\n",
    "        print(\"Please check input\")\n",
    "        raise ValueError\n",
    "    Mat = Mat.reshape(n,n)\n",
    "    Mat = np.mat(Mat)\n",
    "    return Mat"
   ]
  },
  {
   "cell_type": "code",
   "execution_count": 2,
   "metadata": {},
   "outputs": [
    {
     "name": "stdout",
     "output_type": "stream",
     "text": [
      "[[ 2. -1.  0.  0.  0.]\n",
      " [-1.  2. -1.  0.  0.]\n",
      " [ 0. -1.  2. -1.  0.]\n",
      " [ 0.  0. -1.  2. -1.]\n",
      " [ 0.  0.  0. -1.  2.]] \n",
      " [[ 1. -1.  0.  0.  0.]\n",
      " [-1.  2. -1.  0.  0.]\n",
      " [ 0. -1.  2. -1.  0.]\n",
      " [ 0.  0. -1.  2. -1.]\n",
      " [ 0.  0.  0. -1.  2.]] \n",
      " [[ 1. -1.  0.  0.  0.]\n",
      " [-1.  2. -1.  0.  0.]\n",
      " [ 0. -1.  2. -1.  0.]\n",
      " [ 0.  0. -1.  2. -1.]\n",
      " [ 0.  0.  0. -1.  1.]] \n",
      " [[ 2. -1.  0.  0. -1.]\n",
      " [-1.  2. -1.  0.  0.]\n",
      " [ 0. -1.  2. -1.  0.]\n",
      " [ 0.  0. -1.  2. -1.]\n",
      " [-1.  0.  0. -1.  2.]]\n",
      "[[ 0.83333333  0.66666667  0.5         0.33333333  0.16666667]\n",
      " [ 0.66666667  1.33333333  1.          0.66666667  0.33333333]\n",
      " [ 0.5         1.          1.5         1.          0.5       ]\n",
      " [ 0.33333333  0.66666667  1.          1.33333333  0.66666667]\n",
      " [ 0.16666667  0.33333333  0.5         0.66666667  0.83333333]] [[ 5.  4.  3.  2.  1.]\n",
      " [ 4.  4.  3.  2.  1.]\n",
      " [ 3.  3.  3.  2.  1.]\n",
      " [ 2.  2.  2.  2.  1.]\n",
      " [ 1.  1.  1.  1.  1.]]\n"
     ]
    }
   ],
   "source": [
    "import numpy as np\n",
    "import scipy.linalg as alg\n",
    "\n",
    "K5,T5,B5,C5 = Ktbc(\"k\",5),Ktbc(\"T\",5),Ktbc(\"b\",5),Ktbc(\"C\",5)\n",
    "print(K5,\"\\n\",T5,\"\\n\",B5,\"\\n\",C5)\n",
    "\n",
    "print(K5**-1,T5**-1)\n"
   ]
  },
  {
   "cell_type": "code",
   "execution_count": 3,
   "metadata": {},
   "outputs": [
    {
     "name": "stdout",
     "output_type": "stream",
     "text": [
      "[[ 1.]\n",
      " [ 1.]\n",
      " [ 1.]\n",
      " [ 1.]\n",
      " [ 1.]] [[ 1.]\n",
      " [ 2.]\n",
      " [ 3.]\n",
      " [ 4.]\n",
      " [ 5.]] [[  1.]\n",
      " [  4.]\n",
      " [  9.]\n",
      " [ 16.]\n",
      " [ 25.]]\n",
      "[[0]\n",
      " [0]\n",
      " [0]\n",
      " [1]\n",
      " [2]]\n",
      "[  7.07106781e-01   1.00000000e+00   7.07106781e-01   1.22464680e-16\n",
      "  -7.07106781e-01]\n",
      "[  7.07106781e-01   6.12323400e-17  -7.07106781e-01  -1.00000000e+00\n",
      "  -7.07106781e-01]\n",
      "[ 0.+1.j -1.+0.j -0.-1.j  1.-0.j  0.+1.j]\n"
     ]
    }
   ],
   "source": [
    "ONES_5 = np.mat(np.ones(5)).T\n",
    "LINS = np.linspace(1,5,5)\n",
    "SQRS = LINS**2\n",
    "LINS = np.mat(LINS).T\n",
    "SQRS = np.mat(SQRS).T\n",
    "print(ONES_5,LINS,SQRS)\n",
    "DELTA_2 = np.mat([[0,1,0,0,0]]).T\n",
    "DELTA_3 = np.mat([[0,0,1,0,0]]).T\n",
    "STEP_2 =  np.mat([[0,0,1,1,1]]).T\n",
    "STEP_3 = np.mat([[0,0,0,1,1]]).T\n",
    "RAMP_3 = np.mat([[0,0,0,1,2]]) .T\n",
    "print(RAMP_3)\n",
    "\n",
    "def SINES(n,t):\n",
    "    sines  = np.zeros(n)\n",
    "    for i in range(n):\n",
    "        sines[i]=np.sin((i+1)*t)\n",
    "        \n",
    "    return sines\n",
    "print(SINES(5 , np.pi/4))\n",
    "\n",
    "def COSINES(n,t):\n",
    "    cosines = np.zeros(n)\n",
    "    for i in range(n):\n",
    "        cosines[i] = np.cos((i+1)*t)\n",
    "        \n",
    "    return cosines\n",
    "print(COSINES(5,np.pi/4))\n",
    "\n",
    "def EXPON(n,t):\n",
    "    M = np.linspace(1,n,n)\n",
    "    EXP = np.zeros(n)\n",
    "    for m in M:\n",
    "        EXP = np.exp(1j*t*M)\n",
    "    return EXP\n",
    "    \n",
    "print(EXPON(5,np.pi/2).round(2))  # 减小有效数字位数\n"
   ]
  },
  {
   "cell_type": "code",
   "execution_count": 4,
   "metadata": {},
   "outputs": [
    {
     "name": "stdout",
     "output_type": "stream",
     "text": [
      "_________This how Ktbc(5)*ONES(5)________________\n",
      "K:\tDET(K5)=6.000000 \n",
      " [[-1.]\n",
      " [ 0.]\n",
      " [ 0.]\n",
      " [ 0.]\n",
      " [-1.]]\n",
      "T:\tDET(T5)=1.000000 \n",
      " [[ 0.]\n",
      " [ 0.]\n",
      " [ 0.]\n",
      " [ 0.]\n",
      " [-1.]]\n",
      "B:\tDET(B5)=0.000000 \n",
      " [[ 0.]\n",
      " [ 0.]\n",
      " [ 0.]\n",
      " [ 0.]\n",
      " [ 0.]]\n",
      "C:\tDET(C5)=0.000000 \n",
      " [[ 0.]\n",
      " [ 0.]\n",
      " [ 0.]\n",
      " [ 0.]\n",
      " [ 0.]]\n"
     ]
    }
   ],
   "source": [
    "print(\"_________This how Ktbc(5)*ONES(5)________________\")\n",
    "print( \"K:\\tDET(K5)=%f\"%alg.det(K5),\"\\n\",-K5*ONES_5)\n",
    "print( \"T:\\tDET(T5)=%f\"%alg.det(T5),\"\\n\",-T5*ONES_5)\n",
    "print( \"B:\\tDET(B5)=%f\"%alg.det(B5),\"\\n\",-B5*ONES_5)\n",
    "print( \"C:\\tDET(C5)=%f\"%alg.det(C5),\"\\n\",-C5*ONES_5)"
   ]
  },
  {
   "cell_type": "code",
   "execution_count": 5,
   "metadata": {},
   "outputs": [
    {
     "name": "stdout",
     "output_type": "stream",
     "text": [
      "_________This how Ktbc(5)*LINS(5)________________\n",
      "K:\tDET(K5)=6.000000 \n",
      " [[ 0.]\n",
      " [ 0.]\n",
      " [ 0.]\n",
      " [ 0.]\n",
      " [-6.]]\n",
      "T:\tDET(T5)=1.000000 \n",
      " [[ 1.]\n",
      " [ 0.]\n",
      " [ 0.]\n",
      " [ 0.]\n",
      " [-6.]]\n",
      "B:\tDET(B5)=0.000000 \n",
      " [[ 1.]\n",
      " [ 0.]\n",
      " [ 0.]\n",
      " [ 0.]\n",
      " [-1.]]\n",
      "C:\tDET(C5)=0.000000 \n",
      " [[ 5.]\n",
      " [ 0.]\n",
      " [ 0.]\n",
      " [ 0.]\n",
      " [-5.]]\n"
     ]
    }
   ],
   "source": [
    "print(\"_________This how Ktbc(5)*LINS(5)________________\")\n",
    "print( \"K:\\tDET(K5)=%f\"%alg.det(K5),\"\\n\",-K5*LINS)\n",
    "print( \"T:\\tDET(T5)=%f\"%alg.det(T5),\"\\n\",-T5*LINS)\n",
    "print( \"B:\\tDET(B5)=%f\"%alg.det(B5),\"\\n\",-B5*LINS)\n",
    "print( \"C:\\tDET(C5)=%f\"%alg.det(C5),\"\\n\",-C5*LINS)"
   ]
  },
  {
   "cell_type": "code",
   "execution_count": 6,
   "metadata": {},
   "outputs": [
    {
     "name": "stdout",
     "output_type": "stream",
     "text": [
      "[[ 0.]\n",
      " [ 0.]\n",
      " [ 0.]\n",
      " [ 5.]]\n",
      "[[-1.]\n",
      " [ 0.]\n",
      " [ 0.]\n",
      " [ 5.]]\n",
      "[[-1.]\n",
      " [ 0.]\n",
      " [ 0.]\n",
      " [ 1.]]\n",
      "[[-4.]\n",
      " [ 0.]\n",
      " [ 0.]\n",
      " [ 4.]]\n"
     ]
    }
   ],
   "source": [
    "print(Ktbc(\"k\",4)*np.mat([1,2,3,4]).T)\n",
    "print(Ktbc(\"T\",4)*np.mat([1,2,3,4]).T)\n",
    "print(Ktbc(\"B\",4)*np.mat([1,2,3,4]).T)\n",
    "print(Ktbc(\"C\",4)*np.mat([1,2,3,4]).T)"
   ]
  },
  {
   "cell_type": "code",
   "execution_count": 7,
   "metadata": {},
   "outputs": [
    {
     "name": "stdout",
     "output_type": "stream",
     "text": [
      "[[ 0.]\n",
      " [ 1.]\n",
      " [-2.]\n",
      " [ 1.]\n",
      " [ 0.]]\n"
     ]
    }
   ],
   "source": [
    "print(-Ktbc(\"k\",5)*np.mat([0,0,1,0,0]).T)"
   ]
  },
  {
   "cell_type": "markdown",
   "metadata": {},
   "source": [
    "$$ \\frac {-d^2u}{dx^2}=1  [u(0)= 0][  u(1) = 0]$$"
   ]
  },
  {
   "cell_type": "code",
   "execution_count": 13,
   "metadata": {},
   "outputs": [],
   "source": [
    "n = 49\n",
    "h = 1/(n+1)\n",
    "f =np.mat(np.ones(n)*h**2).T\n",
    "#print(f)\n",
    "K = Ktbc(\"K\",n)\n",
    "u = np.linalg.solve(K,f)\n"
   ]
  },
  {
   "cell_type": "code",
   "execution_count": 9,
   "metadata": {},
   "outputs": [
    {
     "name": "stdout",
     "output_type": "stream",
     "text": [
      "[ 0.    0.02  0.04  0.06  0.08  0.1   0.12  0.14  0.16  0.18  0.2   0.22\n",
      "  0.24  0.26  0.28  0.3   0.32  0.34  0.36  0.38  0.4   0.42  0.44  0.46\n",
      "  0.48  0.5   0.52  0.54  0.56  0.58  0.6   0.62  0.64  0.66  0.68  0.7\n",
      "  0.72  0.74  0.76  0.78  0.8   0.82  0.84  0.86  0.88  0.9   0.92  0.94\n",
      "  0.96  0.98  1.  ]\n"
     ]
    },
    {
     "data": {
      "text/plain": [
       "<Figure size 640x480 with 1 Axes>"
      ]
     },
     "metadata": {},
     "output_type": "display_data"
    }
   ],
   "source": [
    "import matplotlib.pyplot as plt\n",
    "X = np.linspace(0,1,n+2)\n",
    "print(X)\n",
    "Y = 1/2*X - 1/2*X**2\n",
    "plt.plot(X[1:-1], u, 'r--', X[1:-1], Y[1:-1], 'bs', linewidth=2) \n",
    "plt.show()"
   ]
  },
  {
   "cell_type": "code",
   "execution_count": 12,
   "metadata": {},
   "outputs": [
    {
     "data": {
      "image/png": "[encoded data removed]",
      "text/plain": [
       "<Figure size 432x288 with 1 Axes>"
      ]
     },
     "metadata": {},
     "output_type": "display_data"
    }
   ],
   "source": [
    "T = Ktbc(\"T\",n)\n",
    "f1 =np.mat(np.ones(n)*h**2).T\n",
    "u1 = np.linalg.solve(T,f1)\n",
    "X = np.linspace(0,1,n+2)[1:-1]\n",
    "Y1 = 1/2*(1-X**2)\n",
    "plt.plot(X, u1, 'r--', X, Y1, 'bs', linewidth=2) \n",
    "plt.show()"
   ]
  },
  {
   "cell_type": "code",
   "execution_count": 11,
   "metadata": {},
   "outputs": [
    {
     "data": {
      "image/png": "[encoded data removed]",
      "text/plain": [
       "<Figure size 432x288 with 1 Axes>"
      ]
     },
     "metadata": {},
     "output_type": "display_data"
    }
   ],
   "source": [
    "MT = Ktbc(\"K\",n)\n",
    "f3 =np.mat(np.ones(n)*h**2).T\n",
    "f3[10,0]= 100*h**2\n",
    "\n",
    "u3 = np.linalg.solve(MT,f3)\n",
    "\n",
    "X = np.linspace(0,1,n+2)[1:-1]\n",
    "\n",
    "plt.plot(X, u3, 'r--',  linewidth=2) \n",
    "plt.show()"
   ]
  },
  {
   "cell_type": "code",
   "execution_count": null,
   "metadata": {},
   "outputs": [],
   "source": []
  }
 ],
 "metadata": {
  "kernelspec": {
   "display_name": "Python 3",
   "language": "python",
   "name": "python3"
  },
  "language_info": {
   "codemirror_mode": {
    "name": "ipython",
    "version": 3
   },
   "file_extension": ".py",
   "mimetype": "text/x-python",
   "name": "python",
   "nbconvert_exporter": "python",
   "pygments_lexer": "ipython3",
   "version": "3.6.0"
  }
 },
 "nbformat": 4,
 "nbformat_minor": 2
}
