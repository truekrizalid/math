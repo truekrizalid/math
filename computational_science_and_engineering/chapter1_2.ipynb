{
 "cells": [
  {
   "cell_type": "code",
   "execution_count": 2,
   "metadata": {},
   "outputs": [],
   "source": [
    "def Ktbc(Type,n):  # 更改后的计算程序，大幅减少了行数\n",
    "    Mat = np.zeros(n*n)\n",
    "    for i in range(n):\n",
    "        if i <n-1:\n",
    "            Mat[(n+1)*i-1] = -1\n",
    "            Mat[(n+1)*i] = 2\n",
    "            Mat[(n+1)*i+1]=-1\n",
    "        else:\n",
    "            Mat[(n+1)*i-1] = -1\n",
    "            Mat[(n+1)*i] = 2\n",
    "    if Type == \"K\" or Type == \"k\" : pass\n",
    "    elif Type == \"T\"or Type ==\"t\": Mat[0]=1\n",
    "    elif Type == \"B\"or Type ==\"b\": Mat[0],Mat[n*n-1]=1,1\n",
    "    elif Type == \"C\" or Type ==\"c\": Mat[n-1],Mat[n*(n-1)]= -1,-1\n",
    "    else :\n",
    "        print(\"Please check input\")\n",
    "        raise ValueError\n",
    "    Mat = Mat.reshape(n,n)\n",
    "    Mat = np.mat(Mat)\n",
    "    return Mat"
   ]
  },
  {
   "cell_type": "code",
   "execution_count": 3,
   "metadata": {},
   "outputs": [
    {
     "name": "stdout",
     "output_type": "stream",
     "text": [
      "[[ 2. -1.  0.  0.  0.]\n",
      " [-1.  2. -1.  0.  0.]\n",
      " [ 0. -1.  2. -1.  0.]\n",
      " [ 0.  0. -1.  2. -1.]\n",
      " [ 0.  0.  0. -1.  2.]] \n",
      " [[ 1. -1.  0.  0.  0.]\n",
      " [-1.  2. -1.  0.  0.]\n",
      " [ 0. -1.  2. -1.  0.]\n",
      " [ 0.  0. -1.  2. -1.]\n",
      " [ 0.  0.  0. -1.  2.]] \n",
      " [[ 1. -1.  0.  0.  0.]\n",
      " [-1.  2. -1.  0.  0.]\n",
      " [ 0. -1.  2. -1.  0.]\n",
      " [ 0.  0. -1.  2. -1.]\n",
      " [ 0.  0.  0. -1.  1.]] \n",
      " [[ 2. -1.  0.  0. -1.]\n",
      " [-1.  2. -1.  0.  0.]\n",
      " [ 0. -1.  2. -1.  0.]\n",
      " [ 0.  0. -1.  2. -1.]\n",
      " [-1.  0.  0. -1.  2.]]\n",
      "[[ 0.83333333  0.66666667  0.5         0.33333333  0.16666667]\n",
      " [ 0.66666667  1.33333333  1.          0.66666667  0.33333333]\n",
      " [ 0.5         1.          1.5         1.          0.5       ]\n",
      " [ 0.33333333  0.66666667  1.          1.33333333  0.66666667]\n",
      " [ 0.16666667  0.33333333  0.5         0.66666667  0.83333333]] [[ 5.  4.  3.  2.  1.]\n",
      " [ 4.  4.  3.  2.  1.]\n",
      " [ 3.  3.  3.  2.  1.]\n",
      " [ 2.  2.  2.  2.  1.]\n",
      " [ 1.  1.  1.  1.  1.]]\n"
     ]
    }
   ],
   "source": [
    "import numpy as np\n",
    "import scipy.linalg as alg\n",
    "\n",
    "K5,T5,B5,C5 = Ktbc(\"k\",5),Ktbc(\"T\",5),Ktbc(\"b\",5),Ktbc(\"C\",5)\n",
    "print(K5,\"\\n\",T5,\"\\n\",B5,\"\\n\",C5)\n",
    "\n",
    "print(K5**-1,T5**-1)\n"
   ]
  },
  {
   "cell_type": "code",
   "execution_count": 4,
   "metadata": {},
   "outputs": [
    {
     "name": "stdout",
     "output_type": "stream",
     "text": [
      "[[ 1.]\n",
      " [ 1.]\n",
      " [ 1.]\n",
      " [ 1.]\n",
      " [ 1.]] [[ 1.]\n",
      " [ 2.]\n",
      " [ 3.]\n",
      " [ 4.]\n",
      " [ 5.]] [[  1.]\n",
      " [  4.]\n",
      " [  9.]\n",
      " [ 16.]\n",
      " [ 25.]]\n",
      "[[0]\n",
      " [0]\n",
      " [0]\n",
      " [1]\n",
      " [2]]\n",
      "[  7.07106781e-01   1.00000000e+00   7.07106781e-01   1.22464680e-16\n",
      "  -7.07106781e-01]\n",
      "[  7.07106781e-01   6.12323400e-17  -7.07106781e-01  -1.00000000e+00\n",
      "  -7.07106781e-01]\n",
      "[ 0.+1.j -1.+0.j -0.-1.j  1.-0.j  0.+1.j]\n"
     ]
    }
   ],
   "source": [
    "ONES_5 = np.mat(np.ones(5)).T\n",
    "LINS = np.linspace(1,5,5)\n",
    "SQRS = LINS**2\n",
    "LINS = np.mat(LINS).T\n",
    "SQRS = np.mat(SQRS).T\n",
    "print(ONES_5,LINS,SQRS)\n",
    "DELTA_2 = np.mat([[0,1,0,0,0]]).T\n",
    "DELTA_3 = np.mat([[0,0,1,0,0]]).T\n",
    "STEP_2 =  np.mat([[0,0,1,1,1]]).T\n",
    "STEP_3 = np.mat([[0,0,0,1,1]]).T\n",
    "RAMP_3 = np.mat([[0,0,0,1,2]]) .T\n",
    "print(RAMP_3)\n",
    "\n",
    "def SINES(n,t):\n",
    "    sines  = np.zeros(n)\n",
    "    for i in range(n):\n",
    "        sines[i]=np.sin((i+1)*t)\n",
    "        \n",
    "    return sines\n",
    "print(SINES(5 , np.pi/4))\n",
    "\n",
    "def COSINES(n,t):\n",
    "    cosines = np.zeros(n)\n",
    "    for i in range(n):\n",
    "        cosines[i] = np.cos((i+1)*t)\n",
    "        \n",
    "    return cosines\n",
    "print(COSINES(5,np.pi/4))\n",
    "\n",
    "def EXPON(n,t):\n",
    "    M = np.linspace(1,n,n)\n",
    "    EXP = np.zeros(n)\n",
    "    for m in M:\n",
    "        EXP = np.exp(1j*t*M)\n",
    "    return EXP\n",
    "    \n",
    "print(EXPON(5,np.pi/2).round(2))  # 减小有效数字位数\n"
   ]
  },
  {
   "cell_type": "code",
   "execution_count": 5,
   "metadata": {},
   "outputs": [
    {
     "name": "stdout",
     "output_type": "stream",
     "text": [
      "_________This how Ktbc(5)*ONES(5)________________\n",
      "K:\tDET(K5)=6.000000 \n",
      " [[-1.]\n",
      " [ 0.]\n",
      " [ 0.]\n",
      " [ 0.]\n",
      " [-1.]]\n",
      "T:\tDET(T5)=1.000000 \n",
      " [[ 0.]\n",
      " [ 0.]\n",
      " [ 0.]\n",
      " [ 0.]\n",
      " [-1.]]\n",
      "B:\tDET(B5)=0.000000 \n",
      " [[ 0.]\n",
      " [ 0.]\n",
      " [ 0.]\n",
      " [ 0.]\n",
      " [ 0.]]\n",
      "C:\tDET(C5)=0.000000 \n",
      " [[ 0.]\n",
      " [ 0.]\n",
      " [ 0.]\n",
      " [ 0.]\n",
      " [ 0.]]\n"
     ]
    }
   ],
   "source": [
    "print(\"_________This how Ktbc(5)*ONES(5)________________\")\n",
    "print( \"K:\\tDET(K5)=%f\"%alg.det(K5),\"\\n\",-K5*ONES_5)\n",
    "print( \"T:\\tDET(T5)=%f\"%alg.det(T5),\"\\n\",-T5*ONES_5)\n",
    "print( \"B:\\tDET(B5)=%f\"%alg.det(B5),\"\\n\",-B5*ONES_5)\n",
    "print( \"C:\\tDET(C5)=%f\"%alg.det(C5),\"\\n\",-C5*ONES_5)"
   ]
  },
  {
   "cell_type": "code",
   "execution_count": 6,
   "metadata": {},
   "outputs": [
    {
     "name": "stdout",
     "output_type": "stream",
     "text": [
      "_________This how Ktbc(5)*LINS(5)________________\n",
      "K:\tDET(K5)=6.000000 \n",
      " [[ 0.]\n",
      " [ 0.]\n",
      " [ 0.]\n",
      " [ 0.]\n",
      " [-6.]]\n",
      "T:\tDET(T5)=1.000000 \n",
      " [[ 1.]\n",
      " [ 0.]\n",
      " [ 0.]\n",
      " [ 0.]\n",
      " [-6.]]\n",
      "B:\tDET(B5)=0.000000 \n",
      " [[ 1.]\n",
      " [ 0.]\n",
      " [ 0.]\n",
      " [ 0.]\n",
      " [-1.]]\n",
      "C:\tDET(C5)=0.000000 \n",
      " [[ 5.]\n",
      " [ 0.]\n",
      " [ 0.]\n",
      " [ 0.]\n",
      " [-5.]]\n"
     ]
    }
   ],
   "source": [
    "print(\"_________This how Ktbc(5)*LINS(5)________________\")\n",
    "print( \"K:\\tDET(K5)=%f\"%alg.det(K5),\"\\n\",-K5*LINS)\n",
    "print( \"T:\\tDET(T5)=%f\"%alg.det(T5),\"\\n\",-T5*LINS)\n",
    "print( \"B:\\tDET(B5)=%f\"%alg.det(B5),\"\\n\",-B5*LINS)\n",
    "print( \"C:\\tDET(C5)=%f\"%alg.det(C5),\"\\n\",-C5*LINS)"
   ]
  },
  {
   "cell_type": "code",
   "execution_count": 7,
   "metadata": {},
   "outputs": [
    {
     "name": "stdout",
     "output_type": "stream",
     "text": [
      "[[ 0.]\n",
      " [ 0.]\n",
      " [ 0.]\n",
      " [ 5.]]\n",
      "[[-1.]\n",
      " [ 0.]\n",
      " [ 0.]\n",
      " [ 5.]]\n",
      "[[-1.]\n",
      " [ 0.]\n",
      " [ 0.]\n",
      " [ 1.]]\n",
      "[[-4.]\n",
      " [ 0.]\n",
      " [ 0.]\n",
      " [ 4.]]\n"
     ]
    }
   ],
   "source": [
    "print(Ktbc(\"k\",4)*np.mat([1,2,3,4]).T)\n",
    "print(Ktbc(\"T\",4)*np.mat([1,2,3,4]).T)\n",
    "print(Ktbc(\"B\",4)*np.mat([1,2,3,4]).T)\n",
    "print(Ktbc(\"C\",4)*np.mat([1,2,3,4]).T)"
   ]
  },
  {
   "cell_type": "code",
   "execution_count": 8,
   "metadata": {},
   "outputs": [
    {
     "name": "stdout",
     "output_type": "stream",
     "text": [
      "[[ 0.]\n",
      " [ 1.]\n",
      " [-2.]\n",
      " [ 1.]\n",
      " [ 0.]]\n"
     ]
    }
   ],
   "source": [
    "print(-Ktbc(\"k\",5)*np.mat([0,0,1,0,0]).T)"
   ]
  },
  {
   "cell_type": "markdown",
   "metadata": {},
   "source": [
    "$$ -\\frac {d^2u}{dx^2}=1  [u(0)= 0][  u(1) = 0]$$"
   ]
  },
  {
   "cell_type": "code",
   "execution_count": 73,
   "metadata": {},
   "outputs": [
    {
     "name": "stdout",
     "output_type": "stream",
     "text": [
      "0.01\n",
      "[[ 0.  ]\n",
      " [ 0.  ]\n",
      " [ 0.  ]\n",
      " [ 0.  ]\n",
      " [ 0.  ]\n",
      " [ 0.  ]\n",
      " [ 0.  ]\n",
      " [ 0.  ]\n",
      " [ 0.  ]\n",
      " [ 0.  ]\n",
      " [ 0.  ]\n",
      " [ 0.  ]\n",
      " [ 0.  ]\n",
      " [ 0.  ]\n",
      " [ 0.  ]\n",
      " [ 0.  ]\n",
      " [ 0.  ]\n",
      " [ 0.  ]\n",
      " [ 0.  ]\n",
      " [ 0.  ]\n",
      " [ 0.  ]\n",
      " [ 0.  ]\n",
      " [ 0.  ]\n",
      " [ 0.  ]\n",
      " [ 0.  ]\n",
      " [ 0.  ]\n",
      " [ 0.  ]\n",
      " [ 0.  ]\n",
      " [ 0.  ]\n",
      " [ 0.  ]\n",
      " [ 0.  ]\n",
      " [ 0.  ]\n",
      " [ 0.  ]\n",
      " [ 0.  ]\n",
      " [ 0.  ]\n",
      " [ 0.  ]\n",
      " [ 0.  ]\n",
      " [ 0.  ]\n",
      " [ 0.  ]\n",
      " [ 0.  ]\n",
      " [ 0.  ]\n",
      " [ 0.  ]\n",
      " [ 0.  ]\n",
      " [ 0.  ]\n",
      " [ 0.  ]\n",
      " [ 0.  ]\n",
      " [ 0.  ]\n",
      " [ 0.  ]\n",
      " [ 0.  ]\n",
      " [ 0.01]\n",
      " [ 0.  ]\n",
      " [ 0.  ]\n",
      " [ 0.  ]\n",
      " [ 0.  ]\n",
      " [ 0.  ]\n",
      " [ 0.  ]\n",
      " [ 0.  ]\n",
      " [ 0.  ]\n",
      " [ 0.  ]\n",
      " [ 0.  ]\n",
      " [ 0.  ]\n",
      " [ 0.  ]\n",
      " [ 0.  ]\n",
      " [ 0.  ]\n",
      " [ 0.  ]\n",
      " [ 0.  ]\n",
      " [ 0.  ]\n",
      " [ 0.  ]\n",
      " [ 0.  ]\n",
      " [ 0.  ]\n",
      " [ 0.  ]\n",
      " [ 0.  ]\n",
      " [ 0.  ]\n",
      " [ 0.  ]\n",
      " [ 0.  ]\n",
      " [ 0.  ]\n",
      " [ 0.  ]\n",
      " [ 0.  ]\n",
      " [ 0.  ]\n",
      " [ 0.  ]\n",
      " [ 0.  ]\n",
      " [ 0.  ]\n",
      " [ 0.  ]\n",
      " [ 0.  ]\n",
      " [ 0.  ]\n",
      " [ 0.  ]\n",
      " [ 0.  ]\n",
      " [ 0.  ]\n",
      " [ 0.  ]\n",
      " [ 0.  ]\n",
      " [ 0.  ]\n",
      " [ 0.  ]\n",
      " [ 0.  ]\n",
      " [ 0.  ]\n",
      " [ 0.  ]\n",
      " [ 0.  ]\n",
      " [ 0.  ]\n",
      " [ 0.  ]\n",
      " [ 0.  ]]\n",
      "[[ 0.005]\n",
      " [ 0.01 ]\n",
      " [ 0.015]\n",
      " [ 0.02 ]\n",
      " [ 0.025]\n",
      " [ 0.03 ]\n",
      " [ 0.035]\n",
      " [ 0.04 ]\n",
      " [ 0.045]\n",
      " [ 0.05 ]\n",
      " [ 0.055]\n",
      " [ 0.06 ]\n",
      " [ 0.065]\n",
      " [ 0.07 ]\n",
      " [ 0.075]\n",
      " [ 0.08 ]\n",
      " [ 0.085]\n",
      " [ 0.09 ]\n",
      " [ 0.095]\n",
      " [ 0.1  ]\n",
      " [ 0.105]\n",
      " [ 0.11 ]\n",
      " [ 0.115]\n",
      " [ 0.12 ]\n",
      " [ 0.125]\n",
      " [ 0.13 ]\n",
      " [ 0.135]\n",
      " [ 0.14 ]\n",
      " [ 0.145]\n",
      " [ 0.15 ]\n",
      " [ 0.155]\n",
      " [ 0.16 ]\n",
      " [ 0.165]\n",
      " [ 0.17 ]\n",
      " [ 0.175]\n",
      " [ 0.18 ]\n",
      " [ 0.185]\n",
      " [ 0.19 ]\n",
      " [ 0.195]\n",
      " [ 0.2  ]\n",
      " [ 0.205]\n",
      " [ 0.21 ]\n",
      " [ 0.215]\n",
      " [ 0.22 ]\n",
      " [ 0.225]\n",
      " [ 0.23 ]\n",
      " [ 0.235]\n",
      " [ 0.24 ]\n",
      " [ 0.245]\n",
      " [ 0.25 ]\n",
      " [ 0.245]\n",
      " [ 0.24 ]\n",
      " [ 0.235]\n",
      " [ 0.23 ]\n",
      " [ 0.225]\n",
      " [ 0.22 ]\n",
      " [ 0.215]\n",
      " [ 0.21 ]\n",
      " [ 0.205]\n",
      " [ 0.2  ]\n",
      " [ 0.195]\n",
      " [ 0.19 ]\n",
      " [ 0.185]\n",
      " [ 0.18 ]\n",
      " [ 0.175]\n",
      " [ 0.17 ]\n",
      " [ 0.165]\n",
      " [ 0.16 ]\n",
      " [ 0.155]\n",
      " [ 0.15 ]\n",
      " [ 0.145]\n",
      " [ 0.14 ]\n",
      " [ 0.135]\n",
      " [ 0.13 ]\n",
      " [ 0.125]\n",
      " [ 0.12 ]\n",
      " [ 0.115]\n",
      " [ 0.11 ]\n",
      " [ 0.105]\n",
      " [ 0.1  ]\n",
      " [ 0.095]\n",
      " [ 0.09 ]\n",
      " [ 0.085]\n",
      " [ 0.08 ]\n",
      " [ 0.075]\n",
      " [ 0.07 ]\n",
      " [ 0.065]\n",
      " [ 0.06 ]\n",
      " [ 0.055]\n",
      " [ 0.05 ]\n",
      " [ 0.045]\n",
      " [ 0.04 ]\n",
      " [ 0.035]\n",
      " [ 0.03 ]\n",
      " [ 0.025]\n",
      " [ 0.02 ]\n",
      " [ 0.015]\n",
      " [ 0.01 ]\n",
      " [ 0.005]]\n"
     ]
    }
   ],
   "source": [
    "n = 99\n",
    "h = 1/(n+1)\n",
    "print(h)\n",
    "f =np.mat(np.zeros(n)*h**2).T\n",
    "f[int(n/2)]=h\n",
    "print(f)\n",
    "#print(f)\n",
    "K = Ktbc(\"K\",n)\n",
    "u = alg.inv(K)*f\n",
    "print(u)\n"
   ]
  },
  {
   "cell_type": "code",
   "execution_count": 74,
   "metadata": {},
   "outputs": [
    {
     "name": "stdout",
     "output_type": "stream",
     "text": [
      "[ 0.    0.01  0.02  0.03  0.04  0.05  0.06  0.07  0.08  0.09  0.1   0.11\n",
      "  0.12  0.13  0.14  0.15  0.16  0.17  0.18  0.19  0.2   0.21  0.22  0.23\n",
      "  0.24  0.25  0.26  0.27  0.28  0.29  0.3   0.31  0.32  0.33  0.34  0.35\n",
      "  0.36  0.37  0.38  0.39  0.4   0.41  0.42  0.43  0.44  0.45  0.46  0.47\n",
      "  0.48  0.49  0.5   0.51  0.52  0.53  0.54  0.55  0.56  0.57  0.58  0.59\n",
      "  0.6   0.61  0.62  0.63  0.64  0.65  0.66  0.67  0.68  0.69  0.7   0.71\n",
      "  0.72  0.73  0.74  0.75  0.76  0.77  0.78  0.79  0.8   0.81  0.82  0.83\n",
      "  0.84  0.85  0.86  0.87  0.88  0.89  0.9   0.91  0.92  0.93  0.94  0.95\n",
      "  0.96  0.97  0.98  0.99  1.  ]\n"
     ]
    },
    {
     "data": {
      "image/png": "[encoded data removed]",
      "text/plain": [
       "<Figure size 432x288 with 1 Axes>"
      ]
     },
     "metadata": {},
     "output_type": "display_data"
    }
   ],
   "source": [
    "import matplotlib.pyplot as plt\n",
    "X = np.linspace(0,1,n+2)\n",
    "print(X)\n",
    "Y = 1/2*X - 1/2*X**2\n",
    "plt.plot(X[1:-1], u, 'r--', X[1:-1], Y[1:-1], 'bs', linewidth=2) \n",
    "plt.show()"
   ]
  },
  {
   "cell_type": "code",
   "execution_count": 68,
   "metadata": {},
   "outputs": [
    {
     "data": {
      "image/png": "[encoded data removed]",
      "text/plain": [
       "<Figure size 432x288 with 1 Axes>"
      ]
     },
     "metadata": {},
     "output_type": "display_data"
    }
   ],
   "source": [
    "T = Ktbc(\"T\",n)\n",
    "f1 =np.mat(np.ones(n)*h**2).T\n",
    "u1 = np.linalg.solve(T,f1)\n",
    "X = np.linspace(0,1,n+2)[1:-1]\n",
    "Y1 = 1/2*(1-X**2)\n",
    "plt.plot(X, u1, 'r--', X, Y1, 'bs', linewidth=2) \n",
    "plt.show()"
   ]
  },
  {
   "cell_type": "code",
   "execution_count": 12,
   "metadata": {},
   "outputs": [
    {
     "data": {
      "image/png": "[encoded data removed]",
      "text/plain": [
       "<Figure size 432x288 with 1 Axes>"
      ]
     },
     "metadata": {},
     "output_type": "display_data"
    }
   ],
   "source": [
    "MT = Ktbc(\"T\",n)\n",
    "f3 =np.mat(np.zeros(n)*h**2).T\n",
    "f3[10,0]= 100*h**2\n",
    "#f3[20,0]= 100*h**2\n",
    "\n",
    "u3 = np.linalg.solve(MT,f3)\n",
    "\n",
    "X = np.linspace(0,1,n+2)[1:-1]\n",
    "\n",
    "plt.plot(X, u3, 'r--',  linewidth=2) \n",
    "plt.show()"
   ]
  },
  {
   "cell_type": "code",
   "execution_count": 12,
   "metadata": {},
   "outputs": [
    {
     "name": "stdout",
     "output_type": "stream",
     "text": [
      "[[ 1.          0.          0.        ]\n",
      " [-0.5         1.          0.        ]\n",
      " [ 0.         -0.66666667  1.        ]]\n",
      "[[ 2.         -1.          0.        ]\n",
      " [ 0.          1.5        -1.        ]\n",
      " [ 0.          0.          1.33333333]]\n"
     ]
    }
   ],
   "source": [
    "K = Ktbc(\"k\",3)\n",
    "K\n",
    "P,L,U = alg.lu(K)\n",
    "print(L)\n",
    "print(U)"
   ]
  },
  {
   "cell_type": "code",
   "execution_count": 13,
   "metadata": {},
   "outputs": [
    {
     "name": "stdout",
     "output_type": "stream",
     "text": [
      "[[ 1  0  0]\n",
      " [-1  1  0]\n",
      " [ 0 -1  1]]\n"
     ]
    }
   ],
   "source": [
    "L1 = np.array([[1,-1,0],[0,1,-1],[0,0,1]])\n",
    "L2 = L1.T\n",
    "print(L2)"
   ]
  },
  {
   "cell_type": "code",
   "execution_count": 14,
   "metadata": {},
   "outputs": [
    {
     "name": "stdout",
     "output_type": "stream",
     "text": [
      "[[ 2 -1  0]\n",
      " [-1  2 -1]\n",
      " [ 0 -1  1]]\n"
     ]
    }
   ],
   "source": [
    "print(np.dot(L1,L2))"
   ]
  },
  {
   "cell_type": "code",
   "execution_count": 15,
   "metadata": {},
   "outputs": [
    {
     "data": {
      "text/plain": [
       "array([[ 2, -1,  0],\n",
       "       [-1,  2, -1],\n",
       "       [ 0, -1,  2]])"
      ]
     },
     "execution_count": 15,
     "metadata": {},
     "output_type": "execute_result"
    }
   ],
   "source": [
    "A1 = np.array([[2,-1,0],[-1,2,-1],[0,-1,2]])\n",
    "A1"
   ]
  },
  {
   "cell_type": "code",
   "execution_count": 16,
   "metadata": {},
   "outputs": [
    {
     "name": "stdout",
     "output_type": "stream",
     "text": [
      "[[ 1.41421356 -0.70710678  0.        ]\n",
      " [ 0.          1.22474487 -0.81649658]\n",
      " [ 0.          0.          1.15470054]]\n",
      "[[ 2. -1.  0.]\n",
      " [-1.  2. -1.]\n",
      " [ 0. -1.  2.]]\n",
      "[[ 2.5        -0.8660254   0.        ]\n",
      " [-0.8660254   2.16666667 -0.94280904]\n",
      " [ 0.         -0.94280904  1.33333333]]\n"
     ]
    }
   ],
   "source": [
    "\n",
    "LL = alg.cholesky(A1)\n",
    "print(LL)\n",
    "LLT = np.mat(LL).T\n",
    "print(LLT*LL)\n",
    "print(LL*LLT)"
   ]
  },
  {
   "cell_type": "code",
   "execution_count": 78,
   "metadata": {},
   "outputs": [
    {
     "name": "stdout",
     "output_type": "stream",
     "text": [
      "6.0\n",
      "[[ 0.83333333  0.66666667  0.5         0.33333333  0.16666667]\n",
      " [ 0.66666667  1.33333333  1.          0.66666667  0.33333333]\n",
      " [ 0.5         1.          1.5         1.          0.5       ]\n",
      " [ 0.33333333  0.66666667  1.          1.33333333  0.66666667]\n",
      " [ 0.16666667  0.33333333  0.5         0.66666667  0.83333333]]\n",
      "0.1666666666666666\n"
     ]
    }
   ],
   "source": [
    "BB = Ktbc(\"K\",5)\n",
    "print(alg.det(BB))\n",
    "INV_BB = alg.inv(BB)\n",
    "print(INV_BB)\n",
    "print(alg.det(INV_BB))"
   ]
  },
  {
   "cell_type": "code",
   "execution_count": null,
   "metadata": {},
   "outputs": [],
   "source": []
  }
 ],
 "metadata": {
  "kernelspec": {
   "display_name": "Python 3",
   "language": "python",
   "name": "python3"
  },
  "language_info": {
   "codemirror_mode": {
    "name": "ipython",
    "version": 3
   },
   "file_extension": ".py",
   "mimetype": "text/x-python",
   "name": "python",
   "nbconvert_exporter": "python",
   "pygments_lexer": "ipython3",
   "version": "3.6.0"
  }
 },
 "nbformat": 4,
 "nbformat_minor": 2
}
