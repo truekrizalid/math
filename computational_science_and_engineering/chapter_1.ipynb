{
 "cells": [
  {
   "cell_type": "markdown",
   "metadata": {},
   "source": [
    "## Start with special matrix using numpy and scipy.linalg"
   ]
  },
  {
   "cell_type": "code",
   "execution_count": 28,
   "metadata": {},
   "outputs": [],
   "source": [
    "import numpy as np\n",
    "import scipy.linalg as alg\n"
   ]
  },
  {
   "cell_type": "markdown",
   "metadata": {},
   "source": [
    "### 四种特殊矩阵的生成程序\n",
    "&emsp;&emsp;首先生成n * n的一维zero数组，然后按照index赋值，仅需要检查最后赋值不越界"
   ]
  },
  {
   "cell_type": "code",
   "execution_count": 29,
   "metadata": {},
   "outputs": [],
   "source": [
    "def KTBC(Type,n):\n",
    "    mat = np.zeros(n*n)\n",
    "    if Type == \"K\":\n",
    "        for i in range(n):\n",
    "            if i <n-1:\n",
    "                mat[(n+1)*i-1] = -1\n",
    "                mat[(n+1)*i] = 2\n",
    "                mat[(n+1)*i+1]=-1\n",
    "            else:\n",
    "                mat[(n+1)*i-1] = -1\n",
    "                mat[(n+1)*i] = 2\n",
    "    elif Type == \"T\":\n",
    "        for i in range(n):\n",
    "            if i <n-1:\n",
    "                mat[(n+1)*i-1] = -1\n",
    "                mat[(n+1)*i] = 2\n",
    "                mat[(n+1)*i+1]=-1\n",
    "            else:\n",
    "                mat[(n+1)*i-1] = -1\n",
    "                mat[(n+1)*i] = 2\n",
    "        mat[0]=1\n",
    "    elif Type == \"T\":\n",
    "        for i in range(n):\n",
    "            if i <n-1:\n",
    "                mat[(n+1)*i-1] = -1\n",
    "                mat[(n+1)*i] = 2\n",
    "                mat[(n+1)*i+1]=-1\n",
    "            else:\n",
    "                mat[(n+1)*i-1] = -1\n",
    "                mat[(n+1)*i] = 2\n",
    "        mat[0]=1\n",
    "    elif Type == \"B\":\n",
    "        for i in range(n):\n",
    "            if i <n-1:\n",
    "                mat[(n+1)*i-1] = -1\n",
    "                mat[(n+1)*i] = 2\n",
    "                mat[(n+1)*i+1]=-1\n",
    "            else:\n",
    "                mat[(n+1)*i-1] = -1\n",
    "                mat[(n+1)*i] = 2\n",
    "        mat[0]=1\n",
    "        mat[n*n-1]=1\n",
    "    elif Type == \"C\":\n",
    "        for i in range(n):\n",
    "            if i <n-1:\n",
    "                mat[(n+1)*i-1] = -1\n",
    "                mat[(n+1)*i] = 2\n",
    "                mat[(n+1)*i+1]=-1\n",
    "            else:\n",
    "                mat[(n+1)*i-1] = -1\n",
    "                mat[(n+1)*i] = 2\n",
    "        mat[n-1]=-1\n",
    "        mat[n*(n-1)]=-1\n",
    "    else : \n",
    "        print(\"Please check input!\")\n",
    "        \n",
    "        \n",
    "    mat = mat.reshape(n,n)\n",
    "    return mat"
   ]
  },
  {
   "cell_type": "code",
   "execution_count": 32,
   "metadata": {},
   "outputs": [
    {
     "data": {
      "text/plain": [
       "array([[ 2., -1.,  0.,  0.,  0.],\n",
       "       [-1.,  2., -1.,  0.,  0.],\n",
       "       [ 0., -1.,  2., -1.,  0.],\n",
       "       [ 0.,  0., -1.,  2., -1.],\n",
       "       [ 0.,  0.,  0., -1.,  2.]])"
      ]
     },
     "execution_count": 32,
     "metadata": {},
     "output_type": "execute_result"
    }
   ],
   "source": [
    "x =KTBC(\"K\",5)\n"
   ]
  },
  {
   "cell_type": "code",
   "execution_count": 36,
   "metadata": {},
   "outputs": [
    {
     "name": "stdout",
     "output_type": "stream",
     "text": [
      "6.0\n"
     ]
    }
   ],
   "source": [
    "print(alg.det(x))  # 行列式"
   ]
  },
  {
   "cell_type": "code",
   "execution_count": null,
   "metadata": {
    "collapsed": true
   },
   "outputs": [],
   "source": []
  }
 ],
 "metadata": {
  "kernelspec": {
   "display_name": "Python 3",
   "language": "python",
   "name": "python3"
  },
  "language_info": {
   "codemirror_mode": {
    "name": "ipython",
    "version": 3
   },
   "file_extension": ".py",
   "mimetype": "text/x-python",
   "name": "python",
   "nbconvert_exporter": "python",
   "pygments_lexer": "ipython3",
   "version": "3.6.0"
  }
 },
 "nbformat": 4,
 "nbformat_minor": 2
}
