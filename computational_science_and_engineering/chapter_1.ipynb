{
 "cells": [
  {
   "cell_type": "markdown",
   "metadata": {},
   "source": [
    "## Start with special matrix using numpy and scipy.linalg"
   ]
  },
  {
   "cell_type": "code",
   "execution_count": 1,
   "metadata": {},
   "outputs": [],
   "source": [
    "import numpy as np\n",
    "import scipy.linalg as alg\n"
   ]
  },
  {
   "cell_type": "markdown",
   "metadata": {},
   "source": [
    "### 四种特殊矩阵的生成程序\n",
    "&emsp;&emsp;首先生成n * n的一维zero数组，然后按照index赋值，仅需要检查最后赋值不越界"
   ]
  },
  {
   "cell_type": "code",
   "execution_count": 2,
   "metadata": {},
   "outputs": [],
   "source": [
    "def KTBC(Type,n):\n",
    "    mat = np.zeros(n*n)\n",
    "    if Type == \"K\":\n",
    "        for i in range(n):\n",
    "            if i <n-1:\n",
    "                mat[(n+1)*i-1] = -1\n",
    "                mat[(n+1)*i] = 2\n",
    "                mat[(n+1)*i+1]=-1\n",
    "            else:\n",
    "                mat[(n+1)*i-1] = -1\n",
    "                mat[(n+1)*i] = 2\n",
    "    elif Type == \"T\":\n",
    "        for i in range(n):\n",
    "            if i <n-1:\n",
    "                mat[(n+1)*i-1] = -1\n",
    "                mat[(n+1)*i] = 2\n",
    "                mat[(n+1)*i+1]=-1\n",
    "            else:\n",
    "                mat[(n+1)*i-1] = -1\n",
    "                mat[(n+1)*i] = 2\n",
    "        mat[0]=1\n",
    "    elif Type == \"T\":\n",
    "        for i in range(n):\n",
    "            if i <n-1:\n",
    "                mat[(n+1)*i-1] = -1\n",
    "                mat[(n+1)*i] = 2\n",
    "                mat[(n+1)*i+1]=-1\n",
    "            else:\n",
    "                mat[(n+1)*i-1] = -1\n",
    "                mat[(n+1)*i] = 2\n",
    "        mat[0]=1\n",
    "    elif Type == \"B\":\n",
    "        for i in range(n):\n",
    "            if i <n-1:\n",
    "                mat[(n+1)*i-1] = -1\n",
    "                mat[(n+1)*i] = 2\n",
    "                mat[(n+1)*i+1]=-1\n",
    "            else:\n",
    "                mat[(n+1)*i-1] = -1\n",
    "                mat[(n+1)*i] = 2\n",
    "        mat[0]=1\n",
    "        mat[n*n-1]=1\n",
    "    elif Type == \"C\":\n",
    "        for i in range(n):\n",
    "            if i <n-1:\n",
    "                mat[(n+1)*i-1] = -1\n",
    "                mat[(n+1)*i] = 2\n",
    "                mat[(n+1)*i+1]=-1\n",
    "            else:\n",
    "                mat[(n+1)*i-1] = -1\n",
    "                mat[(n+1)*i] = 2\n",
    "        mat[n-1]=-1\n",
    "        mat[n*(n-1)]=-1\n",
    "    else : \n",
    "        print(\"Please check input!\")\n",
    "        \n",
    "        \n",
    "    mat = mat.reshape(n,n)\n",
    "    return mat"
   ]
  },
  {
   "cell_type": "code",
   "execution_count": 3,
   "metadata": {},
   "outputs": [],
   "source": [
    "x =KTBC(\"K\",5)\n"
   ]
  },
  {
   "cell_type": "code",
   "execution_count": 4,
   "metadata": {},
   "outputs": [
    {
     "name": "stdout",
     "output_type": "stream",
     "text": [
      "6.0\n"
     ]
    }
   ],
   "source": [
    "print(alg.det(x))  # 行列式"
   ]
  },
  {
   "cell_type": "code",
   "execution_count": 5,
   "metadata": {},
   "outputs": [],
   "source": [
    "def Ktbc(Type,n):  # 更改后的计算程序，大幅减少了行数\n",
    "    mat = np.zeros(n*n)\n",
    "    for i in range(n):\n",
    "        if i <n-1:\n",
    "            mat[(n+1)*i-1] = -1\n",
    "            mat[(n+1)*i] = 2\n",
    "            mat[(n+1)*i+1]=-1\n",
    "        else:\n",
    "            mat[(n+1)*i-1] = -1\n",
    "            mat[(n+1)*i] = 2\n",
    "    if Type == \"K\" or Type == \"k\" : pass\n",
    "    elif Type == \"T\"or Type ==\"t\": mat[0]=1\n",
    "    elif Type == \"B\"or Type ==\"b\": mat[0],mat[n*n-1]=1,1\n",
    "    elif Type == \"C\" or Type ==\"c\": mat[n-1],mat[n*(n-1)]= -1,-1\n",
    "    else :\n",
    "        print(\"Please check input\")\n",
    "        raise ValueError\n",
    "    mat = mat.reshape(n,n)\n",
    "    return mat"
   ]
  },
  {
   "cell_type": "code",
   "execution_count": 6,
   "metadata": {},
   "outputs": [
    {
     "name": "stdout",
     "output_type": "stream",
     "text": [
      "[[ 2. -1.  0.]\n",
      " [-1.  2. -1.]\n",
      " [ 0. -1.  2.]]\n",
      "[[ 1. -1.  0.]\n",
      " [-1.  2. -1.]\n",
      " [ 0. -1.  1.]]\n",
      "[[ 2. -1. -1.]\n",
      " [-1.  2. -1.]\n",
      " [-1. -1.  2.]]\n",
      "[[ 2. -1.  0.]\n",
      " [-1.  2. -1.]\n",
      " [ 0. -1.  2.]]\n"
     ]
    }
   ],
   "source": [
    "x1 = Ktbc(\"k\",3)\n",
    "print(x1)\n",
    "x2 = Ktbc(\"b\",3)\n",
    "print(x2)\n",
    "x3 = Ktbc(\"c\",3)\n",
    "print(x3)\n",
    "x4 =Ktbc(\"k\",3)\n",
    "print(x4)"
   ]
  },
  {
   "cell_type": "code",
   "execution_count": 7,
   "metadata": {},
   "outputs": [
    {
     "name": "stdout",
     "output_type": "stream",
     "text": [
      "4.0\n"
     ]
    }
   ],
   "source": [
    " print (alg.det(x1))"
   ]
  },
  {
   "cell_type": "code",
   "execution_count": 8,
   "metadata": {},
   "outputs": [
    {
     "data": {
      "text/plain": [
       "array([[ 2., -1.,  0.,  0.],\n",
       "       [-1.,  2., -1.,  0.],\n",
       "       [ 0., -1.,  2., -1.],\n",
       "       [ 0.,  0., -1.,  2.]])"
      ]
     },
     "execution_count": 8,
     "metadata": {},
     "output_type": "execute_result"
    }
   ],
   "source": [
    "xxx = np.eye(4,k=1)*-1+np.eye(4)*2+np.eye(4,k=-1)*-1 # numpy and matlab command are mostly the same\n",
    "xxx"
   ]
  },
  {
   "cell_type": "code",
   "execution_count": 9,
   "metadata": {},
   "outputs": [
    {
     "data": {
      "text/plain": [
       "array([[ 2, -1,  0,  0],\n",
       "       [-1,  2, -1,  0],\n",
       "       [ 0, -1,  2, -1],\n",
       "       [ 0,  0, -1,  2]])"
      ]
     },
     "execution_count": 9,
     "metadata": {},
     "output_type": "execute_result"
    }
   ],
   "source": [
    "yyy = alg.toeplitz([2,-1,0,0],[2,-1,0,0])\n",
    "yyy"
   ]
  },
  {
   "cell_type": "code",
   "execution_count": 10,
   "metadata": {},
   "outputs": [
    {
     "name": "stdout",
     "output_type": "stream",
     "text": [
      "[[ 1.  0.  0.  0.]\n",
      " [ 0.  1.  0.  0.]\n",
      " [ 0.  0.  1.  0.]\n",
      " [ 0.  0.  0.  1.]]\n",
      "[[ 1.          0.          0.          0.        ]\n",
      " [-0.5         1.          0.          0.        ]\n",
      " [ 0.         -0.66666667  1.          0.        ]\n",
      " [ 0.          0.         -0.75        1.        ]]\n",
      "[[ 2.         -1.          0.          0.        ]\n",
      " [ 0.          1.5        -1.          0.        ]\n",
      " [ 0.          0.          1.33333333 -1.        ]\n",
      " [ 0.          0.          0.          1.25      ]]\n"
     ]
    }
   ],
   "source": [
    "p,l,u = alg.lu(yyy) # scipy 中的\n",
    "print(p) \n",
    "print(l)\n",
    "print(u)"
   ]
  },
  {
   "cell_type": "code",
   "execution_count": 11,
   "metadata": {},
   "outputs": [
    {
     "name": "stdout",
     "output_type": "stream",
     "text": [
      "determinant of K(3)is4.000000\n",
      "lower triangle of K( 3 )is\n",
      " [[ 1.          0.          0.        ]\n",
      " [-0.5         1.          0.        ]\n",
      " [ 0.         -0.66666667  1.        ]]\n",
      "upper triangle of K( 3 )is\n",
      " [[ 2.         -1.          0.        ]\n",
      " [ 0.          1.5        -1.        ]\n",
      " [ 0.          0.          1.33333333]]\n",
      "[[ 2.          0.          0.        ]\n",
      " [ 0.          1.5         0.        ]\n",
      " [ 0.          0.          1.33333333]]\n",
      "[[ 1.         -0.5         0.        ]\n",
      " [ 0.          1.         -0.66666667]\n",
      " [ 0.          0.          1.        ]]\n",
      "determinant of K(4)is5.000000\n",
      "lower triangle of K( 4 )is\n",
      " [[ 1.          0.          0.          0.        ]\n",
      " [-0.5         1.          0.          0.        ]\n",
      " [ 0.         -0.66666667  1.          0.        ]\n",
      " [ 0.          0.         -0.75        1.        ]]\n",
      "upper triangle of K( 4 )is\n",
      " [[ 2.         -1.          0.          0.        ]\n",
      " [ 0.          1.5        -1.          0.        ]\n",
      " [ 0.          0.          1.33333333 -1.        ]\n",
      " [ 0.          0.          0.          1.25      ]]\n",
      "[[ 2.          0.          0.          0.        ]\n",
      " [ 0.          1.5         0.          0.        ]\n",
      " [ 0.          0.          1.33333333  0.        ]\n",
      " [ 0.          0.          0.          1.25      ]]\n",
      "[[ 1.         -0.5         0.          0.        ]\n",
      " [ 0.          1.         -0.66666667  0.        ]\n",
      " [ 0.          0.          1.         -0.75      ]\n",
      " [ 0.          0.          0.          1.        ]]\n",
      "determinant of K(5)is6.000000\n",
      "lower triangle of K( 5 )is\n",
      " [[ 1.          0.          0.          0.          0.        ]\n",
      " [-0.5         1.          0.          0.          0.        ]\n",
      " [ 0.         -0.66666667  1.          0.          0.        ]\n",
      " [ 0.          0.         -0.75        1.          0.        ]\n",
      " [ 0.          0.          0.         -0.8         1.        ]]\n",
      "upper triangle of K( 5 )is\n",
      " [[ 2.         -1.          0.          0.          0.        ]\n",
      " [ 0.          1.5        -1.          0.          0.        ]\n",
      " [ 0.          0.          1.33333333 -1.          0.        ]\n",
      " [ 0.          0.          0.          1.25       -1.        ]\n",
      " [ 0.          0.          0.          0.          1.2       ]]\n",
      "[[ 2.          0.          0.          0.          0.        ]\n",
      " [ 0.          1.5         0.          0.          0.        ]\n",
      " [ 0.          0.          1.33333333  0.          0.        ]\n",
      " [ 0.          0.          0.          1.25        0.        ]\n",
      " [ 0.          0.          0.          0.          1.2       ]]\n",
      "[[ 1.         -0.5         0.          0.          0.        ]\n",
      " [ 0.          1.         -0.66666667  0.          0.        ]\n",
      " [ 0.          0.          1.         -0.75        0.        ]\n",
      " [ 0.          0.          0.          1.         -0.8       ]\n",
      " [ 0.          0.          0.          0.          1.        ]]\n"
     ]
    }
   ],
   "source": [
    "# Practice 1.3 \n",
    "# p1\n",
    "A = Ktbc(\"K\",4)\n",
    "for N in range(3,6):\n",
    "    x = Ktbc(\"K\",N)\n",
    "    print(\"determinant of K(%d)is%f\"%(N,alg.det(x)))\n",
    "    p,l,u = alg.lu(x)\n",
    "    print(\"lower triangle of K(\",N,\")is\\n\" ,l )\n",
    "    print(\"upper triangle of K(\",N,\")is\\n\" ,u )\n",
    "    DD =np.mat(np.identity(N)*np.diag(u))\n",
    "    print(DD)\n",
    "    print(np.dot(alg.inv(DD),u)) # use np.dot (matrix multiply)\n"
   ]
  },
  {
   "cell_type": "code",
   "execution_count": 12,
   "metadata": {},
   "outputs": [
    {
     "name": "stdout",
     "output_type": "stream",
     "text": [
      "[ 2.  2.  2.  2.]\n"
     ]
    }
   ],
   "source": [
    "print(np.diag(A))\n"
   ]
  },
  {
   "cell_type": "code",
   "execution_count": 17,
   "metadata": {},
   "outputs": [
    {
     "data": {
      "text/plain": [
       "array([[ 4.,  3.,  2.,  1.],\n",
       "       [ 3.,  6.,  4.,  2.],\n",
       "       [ 2.,  4.,  6.,  3.],\n",
       "       [ 1.,  2.,  3.,  4.]])"
      ]
     },
     "execution_count": 17,
     "metadata": {},
     "output_type": "execute_result"
    }
   ],
   "source": [
    "alg.inv(A)*5\n"
   ]
  },
  {
   "cell_type": "code",
   "execution_count": null,
   "metadata": {},
   "outputs": [],
   "source": []
  }
 ],
 "metadata": {
  "kernelspec": {
   "display_name": "Python 3",
   "language": "python",
   "name": "python3"
  },
  "language_info": {
   "codemirror_mode": {
    "name": "ipython",
    "version": 3
   },
   "file_extension": ".py",
   "mimetype": "text/x-python",
   "name": "python",
   "nbconvert_exporter": "python",
   "pygments_lexer": "ipython3",
   "version": "3.6.0"
  }
 },
 "nbformat": 4,
 "nbformat_minor": 2
}
