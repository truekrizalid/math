{
 "cells": [
  {
   "cell_type": "code",
   "execution_count": 19,
   "metadata": {},
   "outputs": [],
   "source": [
    "import numpy as np\n",
    "from scipy.optimize import fsolve\n",
    "import matplotlib.pyplot as plt\n"
   ]
  },
  {
   "cell_type": "code",
   "execution_count": 39,
   "metadata": {},
   "outputs": [
    {
     "name": "stdout",
     "output_type": "stream",
     "text": [
      "[  0.5   1.5   2.5   3.5   4.5   5.5   6.5   7.5   8.5   9.5  10.5]\n",
      "[ 0.34657359 -0.20273255 -0.45814537 -0.62638148 -0.7520387  -0.85237405\n",
      " -0.93590109 -1.00745151 -1.07003308 -1.1256459  -1.17568763]\n",
      "[  1.45439216e-14   0.00000000e+00   0.00000000e+00   0.00000000e+00\n",
      "   0.00000000e+00   0.00000000e+00  -2.07833750e-13   1.82076576e-13\n",
      "  -1.77635684e-15   0.00000000e+00  -1.04805054e-13]\n"
     ]
    }
   ],
   "source": [
    "c1 = 1\n",
    "c2 = 0\n",
    "y1 = np.linspace(0.5,10.5,11)\n",
    "\n",
    "print(y1)\n",
    "def f1(t,y,z):\n",
    "    return c1*np.e**(-2*t)+c2*np.e**(-4*t)-y-z\n",
    "m = np.zeros(len(y1))\n",
    "tx = fsolve(f1,np.zeros(len(y1)),(y1,m),xtol=1e-11)\n",
    "print(tx)\n",
    "\n",
    "print(f1(tx,y1,m)) #可以带参数的\n",
    "\n"
   ]
  },
  {
   "cell_type": "code",
   "execution_count": null,
   "metadata": {},
   "outputs": [],
   "source": []
  },
  {
   "cell_type": "code",
   "execution_count": null,
   "metadata": {},
   "outputs": [],
   "source": []
  },
  {
   "cell_type": "code",
   "execution_count": null,
   "metadata": {},
   "outputs": [],
   "source": []
  }
 ],
 "metadata": {
  "kernelspec": {
   "display_name": "Python 3",
   "language": "python",
   "name": "python3"
  },
  "language_info": {
   "codemirror_mode": {
    "name": "ipython",
    "version": 3
   },
   "file_extension": ".py",
   "mimetype": "text/x-python",
   "name": "python",
   "nbconvert_exporter": "python",
   "pygments_lexer": "ipython3",
   "version": "3.6.0"
  }
 },
 "nbformat": 4,
 "nbformat_minor": 2
}
