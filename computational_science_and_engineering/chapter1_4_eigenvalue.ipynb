{
 "cells": [
  {
   "cell_type": "code",
   "execution_count": 1,
   "metadata": {},
   "outputs": [],
   "source": [
    "import numpy as np\n",
    "import scipy.linalg as alg\n",
    "import matplotlib.pyplot as plt\n"
   ]
  },
  {
   "cell_type": "code",
   "execution_count": 2,
   "metadata": {},
   "outputs": [],
   "source": [
    "def Ktbc(Type,n):  # 更改后的计算程序，大幅减少了行数\n",
    "    mat = np.zeros(n*n)\n",
    "    for i in range(n):\n",
    "        if i <n-1:\n",
    "            mat[(n+1)*i-1] = -1\n",
    "            mat[(n+1)*i] = 2\n",
    "            mat[(n+1)*i+1]=-1\n",
    "        else:\n",
    "            mat[(n+1)*i-1] = -1\n",
    "            mat[(n+1)*i] = 2\n",
    "    if Type == \"K\" or Type == \"k\" : pass\n",
    "    elif Type == \"T\"or Type ==\"t\": mat[0]=1\n",
    "    elif Type == \"B\"or Type ==\"b\": mat[0],mat[n*n-1]=1,1\n",
    "    elif Type == \"C\" or Type ==\"c\": mat[n-1],mat[n*(n-1)]= -1,-1\n",
    "    else :\n",
    "        print(\"Please check input\")\n",
    "        raise ValueError\n",
    "    mat = mat.reshape(n,n)\n",
    "    return mat"
   ]
  },
  {
   "cell_type": "code",
   "execution_count": 51,
   "metadata": {},
   "outputs": [
    {
     "data": {
      "text/plain": [
       "array([[ 2., -1.,  0.],\n",
       "       [-1.,  2., -1.],\n",
       "       [ 0., -1.,  2.]])"
      ]
     },
     "execution_count": 51,
     "metadata": {},
     "output_type": "execute_result"
    }
   ],
   "source": [
    "n = 3\n",
    "A =Ktbc(\"K\",n)\n",
    "A"
   ]
  },
  {
   "cell_type": "code",
   "execution_count": 52,
   "metadata": {},
   "outputs": [
    {
     "name": "stdout",
     "output_type": "stream",
     "text": [
      "[ 3.41421356  2.          0.58578644]\n",
      "[3.4142135623730949, 1.9999999999999998, 0.58578643762690485]\n",
      "[[ -5.00000000e-01  -7.07106781e-01   5.00000000e-01]\n",
      " [  7.07106781e-01   4.05925293e-16   7.07106781e-01]\n",
      " [ -5.00000000e-01   7.07106781e-01   5.00000000e-01]]\n"
     ]
    }
   ],
   "source": [
    "S,V = np.linalg.eig(A)\n",
    "print(S)\n",
    "k =[]\n",
    "for i in range(1,n+1):\n",
    "    s = 2-2*np.cos(np.pi*i/(n+1)) \n",
    "    k.append(s)\n",
    "    \n",
    "print(k[::-1])   \n",
    "\n",
    "print(V)"
   ]
  },
  {
   "cell_type": "code",
   "execution_count": 95,
   "metadata": {},
   "outputs": [
    {
     "data": {
      "image/png": "[encoded data removed]",
      "text/plain": [
       "<Figure size 432x288 with 1 Axes>"
      ]
     },
     "metadata": {},
     "output_type": "display_data"
    }
   ],
   "source": [
    "x = np.linspace(0,np.pi,n+2)\n",
    "X = x[-2:0:-1]\n",
    "\n",
    "Y = 2-2*np.cos(X)\n",
    "plt.plot(X,S,\"b--\",X,Y,\"rs\")\n",
    "plt.show()"
   ]
  },
  {
   "cell_type": "code",
   "execution_count": 94,
   "metadata": {},
   "outputs": [
    {
     "name": "stdout",
     "output_type": "stream",
     "text": [
      "[  0.   1.   2.   3.   4.   5.   6.   7.   8.   9.  10.]\n",
      "[ 9.  8.  7.  6.  5.  4.  3.  2.  1.]\n"
     ]
    }
   ],
   "source": [
    "xx = np.linspace(0,10,11)\n",
    "print(xx)\n",
    "print(xx[-2:0:-1])"
   ]
  },
  {
   "cell_type": "code",
   "execution_count": 90,
   "metadata": {},
   "outputs": [
    {
     "name": "stdout",
     "output_type": "stream",
     "text": [
      "[0, 1, 2, 3, 4, 5, 6, 7, 8, 9, 10]\n",
      "[10, 9, 8, 7, 6, 5, 4, 3, 2, 1, 0]\n"
     ]
    }
   ],
   "source": [
    "ss = [0, 1,2,3,4,5,6,7,8,9,10]\n",
    "print(ss)\n",
    "print(ss[-1::-1])"
   ]
  },
  {
   "cell_type": "code",
   "execution_count": null,
   "metadata": {},
   "outputs": [],
   "source": []
  }
 ],
 "metadata": {
  "kernelspec": {
   "display_name": "Python 3",
   "language": "python",
   "name": "python3"
  },
  "language_info": {
   "codemirror_mode": {
    "name": "ipython",
    "version": 3
   },
   "file_extension": ".py",
   "mimetype": "text/x-python",
   "name": "python",
   "nbconvert_exporter": "python",
   "pygments_lexer": "ipython3",
   "version": "3.6.0"
  }
 },
 "nbformat": 4,
 "nbformat_minor": 2
}
